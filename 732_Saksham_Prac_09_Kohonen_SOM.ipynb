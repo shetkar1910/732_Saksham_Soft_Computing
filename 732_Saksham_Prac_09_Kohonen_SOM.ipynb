{
  "nbformat": 4,
  "nbformat_minor": 0,
  "metadata": {
    "colab": {
      "provenance": []
    },
    "kernelspec": {
      "name": "python3",
      "display_name": "Python 3"
    },
    "language_info": {
      "name": "python"
    }
  },
  "cells": [
    {
      "cell_type": "markdown",
      "source": [
        "**Implementing Kohonen's Self Organising Map**\n",
        "\n",
        "---\n",
        "\n",
        "732_Saksham"
      ],
      "metadata": {
        "id": "xlBwww_GM46h"
      }
    },
    {
      "cell_type": "code",
      "execution_count": null,
      "metadata": {
        "id": "WQjBU3MSMUsq"
      },
      "outputs": [],
      "source": [
        "import math"
      ]
    },
    {
      "cell_type": "code",
      "source": [
        "def winner(weights, sample):\n",
        "\n",
        "  # for 2 clusters\n",
        "  D0 = 0\n",
        "  D1 = 0\n",
        "\n",
        "  for i in range(len(sample)):\n",
        "    D0 = D0 + math.pow((sample[i] - weights[0][i]), 2)\n",
        "\n",
        "    D1 = D1 + math.pow((sample[i] - weights[1][i]), 2)\n",
        "\n",
        "    if D0 > D1 :\n",
        "      # change here done\n",
        "      return 1\n",
        "    else:\n",
        "      return 0"
      ],
      "metadata": {
        "id": "Su_THkuUMdKZ"
      },
      "execution_count": null,
      "outputs": []
    },
    {
      "cell_type": "code",
      "source": [
        "def update_w(weights, sample, J, alpha):\n",
        "  for i in range(len(weights)):\n",
        "    weights[J][i] = weights[J][i] + alpha * (sample[i] - weights[J][i])\n",
        "\n",
        "    return weights"
      ],
      "metadata": {
        "id": "Fxgbogb8M0ug"
      },
      "execution_count": null,
      "outputs": []
    },
    {
      "cell_type": "code",
      "source": [
        "# Training Examples\n",
        "\n",
        "T = [[1,1,0,0], [0,0,0,1],[1,0,0,0],[0,0,1,1]]\n",
        "\n",
        "m,n = len(T), len(T[0])\n",
        "\n",
        "# m = 4\n",
        "# n = 4\n",
        "\n",
        "# Initial weights\n",
        "\n",
        "weights = [[0.2, 0.6, 0.5, 0.9], [0.8, 0.4, 0.7, 0.3]]"
      ],
      "metadata": {
        "id": "VZna-LLqOjwA"
      },
      "execution_count": null,
      "outputs": []
    },
    {
      "cell_type": "code",
      "source": [
        "epochs = 3\n",
        "alpha = 0.5\n",
        "\n",
        "for i in range(epochs):\n",
        "  for j in range(m):\n",
        "    sample = T[j]\n",
        "\n",
        "    J = winner(weights, sample)\n",
        "\n",
        "    weights = update_w(weights, sample, J, alpha)\n",
        "    # 12 times 4 X 4 elements\n",
        "\n",
        "S = [0,0,0,1]\n",
        "\n",
        "\n",
        "# S = [0,0,1,1]\n",
        "\n",
        "print(\"The Sample S belongs to cluster : \", winner(weights, S))\n",
        "\n",
        "print(\"Trained Weights are : \", weights)"
      ],
      "metadata": {
        "colab": {
          "base_uri": "https://localhost:8080/"
        },
        "id": "aiDHnMB6PuK5",
        "outputId": "486e4604-d8e7-4c0b-fb3e-1a5e6eb6fbcd"
      },
      "execution_count": null,
      "outputs": [
        {
          "output_type": "stream",
          "name": "stdout",
          "text": [
            "The Sample S belongs to cluster :  0\n",
            "Trained Weights are :  [[0.003125, 0.6, 0.5, 0.9], [0.996875, 0.4, 0.7, 0.3]]\n"
          ]
        }
      ]
    },
    {
      "cell_type": "code",
      "source": [],
      "metadata": {
        "id": "DQpGf6mlRHZG"
      },
      "execution_count": null,
      "outputs": []
    }
  ]
}