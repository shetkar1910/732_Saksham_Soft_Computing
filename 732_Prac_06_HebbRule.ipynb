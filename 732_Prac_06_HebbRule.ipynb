{
 "cells": [
  {
   "cell_type": "markdown",
   "id": "9999388f",
   "metadata": {},
   "source": [
    "<h1 style = \"color:red\">Hebb Rule</h1>\n",
    "\n",
    "\n",
    "\n",
    "meri marzi  😊\n",
    "\n",
    "\n",
    "weights updation formula : \n",
    "\n",
    "- **Wi(new) = wi(old) + xi * y**\n",
    "\n",
    "Bias Updation :\n",
    "\n",
    "- **bias(new) = bias(old) + y**"
   ]
  },
  {
   "cell_type": "code",
   "execution_count": 1,
   "id": "5184a9ce",
   "metadata": {},
   "outputs": [],
   "source": [
    "import numpy as np"
   ]
  },
  {
   "cell_type": "markdown",
   "id": "b5794dad",
   "metadata": {},
   "source": [
    "# First Pattern"
   ]
  },
  {
   "cell_type": "code",
   "execution_count": 2,
   "id": "0f697e78",
   "metadata": {},
   "outputs": [],
   "source": [
    "x1 = np.array([1,1,1,-1,1,-1,1,1,1])"
   ]
  },
  {
   "cell_type": "markdown",
   "id": "4096b957",
   "metadata": {},
   "source": [
    "<pre>\n",
    "\n",
    "x1 =  + | + | +\n",
    "      ________\n",
    "        | + | \n",
    "      ________\n",
    "      + | + | +\n",
    "      \n",
    "      \n",
    "</pre>\n",
    "\n",
    "**here I am taking shape as \"I\"**\n"
   ]
  },
  {
   "cell_type": "code",
   "execution_count": 3,
   "id": "5107cde4",
   "metadata": {},
   "outputs": [],
   "source": [
    "b = 0\n",
    "\n",
    "# bias value = 0"
   ]
  },
  {
   "cell_type": "code",
   "execution_count": 4,
   "id": "e3e5f8ef",
   "metadata": {},
   "outputs": [
    {
     "data": {
      "text/plain": [
       "array([ 1, -1])"
      ]
     },
     "execution_count": 4,
     "metadata": {},
     "output_type": "execute_result"
    }
   ],
   "source": [
    "y = np.array([1,-1])\n",
    "\n",
    "y\n",
    "\n",
    "# x1 = 1 (represents x1)\n",
    "# x2 = -1"
   ]
  },
  {
   "cell_type": "code",
   "execution_count": 5,
   "id": "ff14178c",
   "metadata": {},
   "outputs": [],
   "source": [
    "# array for weights [old and New]\n",
    "\n",
    "# first initialize weights to zero(0)\n",
    "\n",
    "wtold = np.zeros((9,))\n",
    "\n",
    "wtnew = np.zeros((9,))"
   ]
  },
  {
   "cell_type": "code",
   "execution_count": 6,
   "id": "47032d67",
   "metadata": {},
   "outputs": [],
   "source": [
    "# weights data type int\n",
    "\n",
    "wtnew = wtnew.astype(int)\n",
    "\n",
    "wtold = wtold.astype(int)"
   ]
  },
  {
   "cell_type": "code",
   "execution_count": 7,
   "id": "7c50737f",
   "metadata": {},
   "outputs": [
    {
     "data": {
      "text/plain": [
       "array([0, 0, 0, 0, 0, 0, 0, 0, 0])"
      ]
     },
     "execution_count": 7,
     "metadata": {},
     "output_type": "execute_result"
    }
   ],
   "source": [
    "wtnew\n",
    "\n",
    "# initially weights are zeros"
   ]
  },
  {
   "cell_type": "code",
   "execution_count": 8,
   "id": "7dacff53",
   "metadata": {},
   "outputs": [
    {
     "data": {
      "text/plain": [
       "array([0, 0, 0, 0, 0, 0, 0, 0, 0])"
      ]
     },
     "execution_count": 8,
     "metadata": {},
     "output_type": "execute_result"
    }
   ],
   "source": [
    "wtold"
   ]
  },
  {
   "cell_type": "code",
   "execution_count": 9,
   "id": "30a1cbdd",
   "metadata": {},
   "outputs": [
    {
     "name": "stdout",
     "output_type": "stream",
     "text": [
      "First input with target = 1\n"
     ]
    }
   ],
   "source": [
    "# weights updation rule\n",
    "\n",
    "# first run loop for pattern x1 .\n",
    "# To get pattern  = \"I\"\n",
    "    \n",
    "print(\"First input with target = 1\")\n",
    "\n",
    "for i in range(0,9):\n",
    "    wtold[i] = wtold[i] + x1[i] * y[0]\n",
    "    \n",
    "b = b + y[0]\n",
    "\n",
    "\n",
    "\n",
    "# y[0] = to call y[1, -1] (to call y = 1)"
   ]
  },
  {
   "cell_type": "code",
   "execution_count": 10,
   "id": "d8995b82",
   "metadata": {},
   "outputs": [
    {
     "name": "stdout",
     "output_type": "stream",
     "text": [
      "New Weights :  [0 0 0 0 0 0 0 0 0]\n",
      "Bias value :  1\n"
     ]
    }
   ],
   "source": [
    "# weights and bias after first pattern matching\n",
    "\n",
    "print(\"New Weights : \", wtnew)\n",
    "\n",
    "print(\"Bias value : \", b)"
   ]
  },
  {
   "cell_type": "markdown",
   "id": "380b535e",
   "metadata": {},
   "source": [
    "# Second pattern"
   ]
  },
  {
   "cell_type": "code",
   "execution_count": 11,
   "id": "83323cbc",
   "metadata": {},
   "outputs": [
    {
     "data": {
      "text/plain": [
       "array([ 1,  1,  1,  1, -1,  1,  1,  1,  1])"
      ]
     },
     "execution_count": 11,
     "metadata": {},
     "output_type": "execute_result"
    }
   ],
   "source": [
    "# creating second pattern x2 = \"O\"\n",
    "\n",
    "x2 = np.array([1,1,1,1,-1,1,1,1,1])\n",
    "\n",
    "x2"
   ]
  },
  {
   "cell_type": "markdown",
   "id": "7ea7e8c0",
   "metadata": {},
   "source": [
    "**Taking shape as \" O \"**"
   ]
  },
  {
   "cell_type": "code",
   "execution_count": 12,
   "id": "2e055ce4",
   "metadata": {},
   "outputs": [
    {
     "name": "stdout",
     "output_type": "stream",
     "text": [
      "First input with target = -1\n"
     ]
    }
   ],
   "source": [
    "print(\"First input with target = -1\")\n",
    "\n",
    "for i in range(0,9):\n",
    "    wtnew[i] = wtold[i] + x2[i] * y[1]\n",
    "    \n",
    "b = b + y[1]"
   ]
  },
  {
   "cell_type": "markdown",
   "id": "4e8b95b8",
   "metadata": {},
   "source": [
    "# Final weights after both Pattern"
   ]
  },
  {
   "cell_type": "code",
   "execution_count": 13,
   "id": "021de8c5",
   "metadata": {},
   "outputs": [
    {
     "name": "stdout",
     "output_type": "stream",
     "text": [
      "New Weights :  [ 0  0  0 -2  2 -2  0  0  0]\n",
      "Bias value :  0\n"
     ]
    }
   ],
   "source": [
    "print(\"New Weights : \", wtnew)\n",
    "\n",
    "print(\"Bias value : \", b)"
   ]
  },
  {
   "attachments": {},
   "cell_type": "markdown",
   "id": "a0b66ad2",
   "metadata": {},
   "source": [
    "😒"
   ]
  },
  {
   "cell_type": "code",
   "execution_count": null,
   "id": "f7277627",
   "metadata": {},
   "outputs": [],
   "source": []
  }
 ],
 "metadata": {
  "kernelspec": {
   "display_name": "Python 3 (ipykernel)",
   "language": "python",
   "name": "python3"
  },
  "language_info": {
   "codemirror_mode": {
    "name": "ipython",
    "version": 3
   },
   "file_extension": ".py",
   "mimetype": "text/x-python",
   "name": "python",
   "nbconvert_exporter": "python",
   "pygments_lexer": "ipython3",
   "version": "3.9.12"
  }
 },
 "nbformat": 4,
 "nbformat_minor": 5
}
