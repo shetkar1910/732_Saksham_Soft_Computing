{
 "cells": [
  {
   "cell_type": "markdown",
   "id": "1331ceed",
   "metadata": {},
   "source": [
    "<h1 style = \"color:red\">Delta Rule</h1>\n",
    "\n",
    "**732_Saksham**\n",
    "\n",
    "\n",
    "**Write a Program to implement Delta-Rule**\n",
    "\n",
    "**w(new) = w(old) + Learning_rate * (desired_op - actual_op)**"
   ]
  },
  {
   "cell_type": "code",
   "execution_count": 1,
   "id": "1e1b7c6c",
   "metadata": {},
   "outputs": [],
   "source": [
    "import numpy as np"
   ]
  },
  {
   "cell_type": "code",
   "execution_count": 2,
   "id": "fbc306dd",
   "metadata": {},
   "outputs": [],
   "source": [
    "#  making 4 zeros array"
   ]
  },
  {
   "cell_type": "code",
   "execution_count": 3,
   "id": "001d6ab9",
   "metadata": {},
   "outputs": [],
   "source": [
    "x = np.zeros((3,))\n",
    "\n",
    "# size 3 (zero ) array"
   ]
  },
  {
   "cell_type": "code",
   "execution_count": 4,
   "id": "ef934b8e",
   "metadata": {},
   "outputs": [],
   "source": [
    "weights = np.zeros((3,))"
   ]
  },
  {
   "cell_type": "code",
   "execution_count": 5,
   "id": "e8ad6c39",
   "metadata": {},
   "outputs": [],
   "source": [
    "desired = np.zeros((3,))"
   ]
  },
  {
   "cell_type": "code",
   "execution_count": 6,
   "id": "3350323f",
   "metadata": {},
   "outputs": [],
   "source": [
    "actual = np.zeros((3,))"
   ]
  },
  {
   "cell_type": "code",
   "execution_count": 7,
   "id": "cc13ec0a",
   "metadata": {},
   "outputs": [
    {
     "name": "stdout",
     "output_type": "stream",
     "text": [
      "Initial Inputs : 1\n",
      "Initial Inputs : 1\n",
      "Initial Inputs : 1\n"
     ]
    }
   ],
   "source": [
    "for i in range(0,3):\n",
    "    x[i] = float(input(\"Initial Inputs : \"))"
   ]
  },
  {
   "cell_type": "code",
   "execution_count": 8,
   "id": "c17eb0b9",
   "metadata": {},
   "outputs": [
    {
     "name": "stdout",
     "output_type": "stream",
     "text": [
      "Initial Weights : 1\n",
      "Initial Weights : 1\n",
      "Initial Weights : 1\n"
     ]
    }
   ],
   "source": [
    "for i in range(0,3):\n",
    "    weights[i] = float(input(\"Initial Weights : \"))"
   ]
  },
  {
   "cell_type": "code",
   "execution_count": 9,
   "id": "99d3d46e",
   "metadata": {},
   "outputs": [
    {
     "name": "stdout",
     "output_type": "stream",
     "text": [
      "Desired Outputs : 2\n",
      "Desired Outputs : 3\n",
      "Desired Outputs : 4\n"
     ]
    }
   ],
   "source": [
    "for i in range(0,3):\n",
    "    desired[i] = float(input(\"Desired Outputs : \"))"
   ]
  },
  {
   "cell_type": "code",
   "execution_count": 10,
   "id": "2a801b73",
   "metadata": {},
   "outputs": [
    {
     "name": "stdout",
     "output_type": "stream",
     "text": [
      "Enter learning rate : 1\n"
     ]
    }
   ],
   "source": [
    "a = float(input(\"Enter learning rate : \"))"
   ]
  },
  {
   "cell_type": "markdown",
   "id": "0f1682fa",
   "metadata": {},
   "source": [
    "# Outputs : "
   ]
  },
  {
   "cell_type": "code",
   "execution_count": 11,
   "id": "4611ce68",
   "metadata": {},
   "outputs": [
    {
     "data": {
      "text/plain": [
       "array([1., 1., 1.])"
      ]
     },
     "execution_count": 11,
     "metadata": {},
     "output_type": "execute_result"
    }
   ],
   "source": [
    "x"
   ]
  },
  {
   "cell_type": "code",
   "execution_count": 12,
   "id": "4adb5b72",
   "metadata": {},
   "outputs": [
    {
     "data": {
      "text/plain": [
       "array([1., 1., 1.])"
      ]
     },
     "execution_count": 12,
     "metadata": {},
     "output_type": "execute_result"
    }
   ],
   "source": [
    "weights"
   ]
  },
  {
   "cell_type": "code",
   "execution_count": 13,
   "id": "d97a61a3",
   "metadata": {},
   "outputs": [
    {
     "data": {
      "text/plain": [
       "array([2., 3., 4.])"
      ]
     },
     "execution_count": 13,
     "metadata": {},
     "output_type": "execute_result"
    }
   ],
   "source": [
    "desired"
   ]
  },
  {
   "cell_type": "code",
   "execution_count": 14,
   "id": "8dcaf3f9",
   "metadata": {},
   "outputs": [
    {
     "data": {
      "text/plain": [
       "1.0"
      ]
     },
     "execution_count": 14,
     "metadata": {},
     "output_type": "execute_result"
    }
   ],
   "source": [
    "a\n",
    "\n",
    "# learning rate"
   ]
  },
  {
   "cell_type": "markdown",
   "id": "8b10a57b",
   "metadata": {},
   "source": [
    "<hr>\n",
    "\n",
    "\n",
    "**Lets build Neural Network**"
   ]
  },
  {
   "cell_type": "code",
   "execution_count": 15,
   "id": "0836e94e",
   "metadata": {},
   "outputs": [],
   "source": [
    "actual = x * weights"
   ]
  },
  {
   "cell_type": "code",
   "execution_count": 16,
   "id": "28b8b19a",
   "metadata": {},
   "outputs": [
    {
     "name": "stdout",
     "output_type": "stream",
     "text": [
      "Actual output :  [1. 1. 1.]\n",
      "Desired Output :  [2. 3. 4.]\n"
     ]
    }
   ],
   "source": [
    "# initially weight are 1 and inputs are also 1.\n",
    "\n",
    "print(\"Actual output : \", actual)\n",
    "\n",
    "print(\"Desired Output : \", desired)"
   ]
  },
  {
   "cell_type": "code",
   "execution_count": 17,
   "id": "a7599ae8",
   "metadata": {},
   "outputs": [],
   "source": [
    "while True:\n",
    "    if np.array_equal(desired, actual):\n",
    "        break\n",
    "    else:\n",
    "        for i in range(0, 3):\n",
    "            weights[i] = weights[i] + a * (desired[i] - actual[i])\n",
    "            actual = x * weights\n",
    "            "
   ]
  },
  {
   "cell_type": "code",
   "execution_count": 18,
   "id": "ee0c92db",
   "metadata": {},
   "outputs": [
    {
     "name": "stdout",
     "output_type": "stream",
     "text": [
      "🔶Final Output : \n",
      "Corrected weights:  [2. 3. 4.]\n",
      "Actual outputs :  [2. 3. 4.]\n",
      "Desired Output :  [2. 3. 4.]\n"
     ]
    }
   ],
   "source": [
    "print(\"🔶Final Output : \")\n",
    "print(\"Corrected weights: \",weights)\n",
    "print(\"Actual outputs : \", actual)\n",
    "print(\"Desired Output : \", desired)"
   ]
  },
  {
   "cell_type": "code",
   "execution_count": null,
   "id": "cf351058",
   "metadata": {},
   "outputs": [],
   "source": []
  }
 ],
 "metadata": {
  "kernelspec": {
   "display_name": "Python 3 (ipykernel)",
   "language": "python",
   "name": "python3"
  },
  "language_info": {
   "codemirror_mode": {
    "name": "ipython",
    "version": 3
   },
   "file_extension": ".py",
   "mimetype": "text/x-python",
   "name": "python",
   "nbconvert_exporter": "python",
   "pygments_lexer": "ipython3",
   "version": "3.9.12"
  }
 },
 "nbformat": 4,
 "nbformat_minor": 5
}
