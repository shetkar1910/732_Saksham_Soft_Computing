{
 "cells": [
  {
   "cell_type": "code",
   "execution_count": 1,
   "id": "1345257f",
   "metadata": {},
   "outputs": [
    {
     "name": "stdout",
     "output_type": "stream",
     "text": [
      "Collecting pygad\n",
      "  Downloading pygad-2.19.2-py3-none-any.whl (61 kB)\n",
      "Requirement already satisfied: numpy in c:\\users\\user33\\anaconda3\\lib\\site-packages (from pygad) (1.21.5)\n",
      "Requirement already satisfied: cloudpickle in c:\\users\\user33\\anaconda3\\lib\\site-packages (from pygad) (2.0.0)\n",
      "Requirement already satisfied: matplotlib in c:\\users\\user33\\anaconda3\\lib\\site-packages (from pygad) (3.5.1)\n",
      "Requirement already satisfied: fonttools>=4.22.0 in c:\\users\\user33\\anaconda3\\lib\\site-packages (from matplotlib->pygad) (4.25.0)\n",
      "Requirement already satisfied: kiwisolver>=1.0.1 in c:\\users\\user33\\anaconda3\\lib\\site-packages (from matplotlib->pygad) (1.3.2)\n",
      "Requirement already satisfied: cycler>=0.10 in c:\\users\\user33\\anaconda3\\lib\\site-packages (from matplotlib->pygad) (0.11.0)\n",
      "Requirement already satisfied: python-dateutil>=2.7 in c:\\users\\user33\\anaconda3\\lib\\site-packages (from matplotlib->pygad) (2.8.2)\n",
      "Requirement already satisfied: pyparsing>=2.2.1 in c:\\users\\user33\\anaconda3\\lib\\site-packages (from matplotlib->pygad) (3.0.4)\n",
      "Requirement already satisfied: packaging>=20.0 in c:\\users\\user33\\anaconda3\\lib\\site-packages (from matplotlib->pygad) (21.3)\n",
      "Requirement already satisfied: pillow>=6.2.0 in c:\\users\\user33\\anaconda3\\lib\\site-packages (from matplotlib->pygad) (9.0.1)\n",
      "Requirement already satisfied: six>=1.5 in c:\\users\\user33\\anaconda3\\lib\\site-packages (from python-dateutil>=2.7->matplotlib->pygad) (1.16.0)\n",
      "Installing collected packages: pygad\n",
      "Successfully installed pygad-2.19.2\n"
     ]
    }
   ],
   "source": [
    "!pip install pygad"
   ]
  },
  {
   "cell_type": "code",
   "execution_count": 2,
   "id": "7497996d",
   "metadata": {},
   "outputs": [],
   "source": [
    "import pygad\n",
    "import numpy as np"
   ]
  },
  {
   "cell_type": "code",
   "execution_count": 3,
   "id": "305a4374",
   "metadata": {},
   "outputs": [],
   "source": [
    "x=[4,-2,3.5,5,-1,-4.7]\n",
    "desired_output = 44"
   ]
  },
  {
   "cell_type": "code",
   "execution_count": 8,
   "id": "41669ea2",
   "metadata": {},
   "outputs": [],
   "source": [
    "def fitness_func(solution,solution_idx):\n",
    "    output = numpy.sum(solution*x)\n",
    "    fitness = 1.0/np.abs(output-desired_output)\n",
    "    return fitness"
   ]
  },
  {
   "cell_type": "code",
   "execution_count": 9,
   "id": "c81e2b7f",
   "metadata": {},
   "outputs": [],
   "source": [
    "fitness_function = fitness_func\n",
    "num_generations = 50\n",
    "num_parents_mating = 4\n",
    "sol_per_pop = 8\n",
    "num_genes=len(x)\n",
    "init_range_low = -2\n",
    "init_range_high = 5\n",
    "parent_selection_type = 'sss'\n",
    "keep_parents = 1\n",
    "crossover_type = \"single_point\"\n",
    "mutation_type = \"random\""
   ]
  },
  {
   "cell_type": "code",
   "execution_count": 10,
   "id": "3050e84c",
   "metadata": {},
   "outputs": [
    {
     "name": "stderr",
     "output_type": "stream",
     "text": [
      "C:\\Users\\User33\\anaconda3\\lib\\site-packages\\pygad\\pygad.py:522: UserWarning: The percentage of genes to mutate (mutation_percent_genes=10) resutled in selecting (0) genes. The number of genes to mutate is set to 1 (mutation_num_genes=1).\n",
      "If you do not want to mutate any gene, please set mutation_type=None.\n",
      "  if not self.suppress_warnings: warnings.warn(\"The percentage of genes to mutate (mutation_percent_genes={mutation_percent}) resutled in selecting ({mutation_num}) genes. The number of genes to mutate is set to 1 (mutation_num_genes=1).\\nIf you do not want to mutate any gene, please set mutation_type=None.\".format(mutation_percent=mutation_percent_genes, mutation_num=mutation_num_genes))\n"
     ]
    }
   ],
   "source": [
    "ga_instance = pygad.GA(num_generations=num_generations,\n",
    "                       num_parents_mating=num_parents_mating,\n",
    "                      fitness_func=fitness_function,\n",
    "                      sol_per_pop=sol_per_pop,\n",
    "                      num_genes=num_genes,\n",
    "                      init_range_low=init_range_low,\n",
    "                      init_range_high=init_range_high,\n",
    "                      parent_selection_type=parent_selection_type,\n",
    "                      keep_parents=keep_parents,\n",
    "                      crossover_type=crossover_type,\n",
    "                      mutation_type=mutation_type,\n",
    "                      mutation_percent_genes=10)\n"
   ]
  },
  {
   "cell_type": "code",
   "execution_count": 11,
   "id": "b4b04106",
   "metadata": {},
   "outputs": [],
   "source": [
    "import numpy\n",
    "ga_instance.run()"
   ]
  },
  {
   "cell_type": "code",
   "execution_count": 12,
   "id": "33e22da9",
   "metadata": {},
   "outputs": [
    {
     "name": "stdout",
     "output_type": "stream",
     "text": [
      "solution is : [ 2.16679348 -0.86160183  3.94743798  4.06545671  0.37019157  0.03063769]\n"
     ]
    }
   ],
   "source": [
    "solution,solution_fitness,solution_idx = ga_instance.best_solution() \n",
    "\n",
    "print(\"solution is :\",solution)"
   ]
  },
  {
   "cell_type": "code",
   "execution_count": null,
   "id": "d4e29fcf",
   "metadata": {},
   "outputs": [],
   "source": []
  }
 ],
 "metadata": {
  "kernelspec": {
   "display_name": "Python 3 (ipykernel)",
   "language": "python",
   "name": "python3"
  },
  "language_info": {
   "codemirror_mode": {
    "name": "ipython",
    "version": 3
   },
   "file_extension": ".py",
   "mimetype": "text/x-python",
   "name": "python",
   "nbconvert_exporter": "python",
   "pygments_lexer": "ipython3",
   "version": "3.9.12"
  }
 },
 "nbformat": 4,
 "nbformat_minor": 5
}
