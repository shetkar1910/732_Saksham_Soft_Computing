{
 "cells": [
  {
   "cell_type": "markdown",
   "id": "7cfad032",
   "metadata": {},
   "source": [
    "<h1 style=\"color:red\">Fuzzy Logic</h1>"
   ]
  },
  {
   "cell_type": "code",
   "execution_count": 1,
   "id": "a4a7f17c",
   "metadata": {},
   "outputs": [],
   "source": [
    "# !pip install fuzzywuzzy\n",
    "\n",
    "\n",
    "# fuzzywuzzy = used for NLP (provides api = fuzz) for fuzzylogic\n",
    "# used for string matching"
   ]
  },
  {
   "cell_type": "code",
   "execution_count": 2,
   "id": "d9a9ba99",
   "metadata": {},
   "outputs": [],
   "source": [
    "# !pip install python-Levenshtein"
   ]
  },
  {
   "cell_type": "code",
   "execution_count": 3,
   "id": "5b5c4101",
   "metadata": {},
   "outputs": [],
   "source": [
    "from fuzzywuzzy import fuzz\n",
    "from fuzzywuzzy import process"
   ]
  },
  {
   "cell_type": "code",
   "execution_count": 4,
   "id": "f630009b",
   "metadata": {},
   "outputs": [],
   "source": [
    "strA = 'ArunKumar is a lifesaver'\n",
    "\n",
    "strB = 'arun kumar is a LIFE SAVER'"
   ]
  },
  {
   "cell_type": "markdown",
   "id": "2930ce4f",
   "metadata": {},
   "source": [
    "<h1 style=\"color:purple\">Ratio</h1>"
   ]
  },
  {
   "cell_type": "code",
   "execution_count": 5,
   "id": "aafc8e08",
   "metadata": {},
   "outputs": [],
   "source": [
    "ratio = fuzz.ratio(strA.lower(), strB.lower())\n",
    "\n",
    "# Levenshtein distance formula used by Ration\n",
    "\n",
    "# comparing both strings (space in string matters.)"
   ]
  },
  {
   "cell_type": "code",
   "execution_count": 6,
   "id": "d27d69a5",
   "metadata": {},
   "outputs": [
    {
     "name": "stdout",
     "output_type": "stream",
     "text": [
      "96\n"
     ]
    }
   ],
   "source": [
    "print(ratio)"
   ]
  },
  {
   "cell_type": "code",
   "execution_count": 7,
   "id": "6213975b",
   "metadata": {},
   "outputs": [
    {
     "name": "stdout",
     "output_type": "stream",
     "text": [
      "52\n"
     ]
    }
   ],
   "source": [
    "ratio2 = fuzz.ratio(strA, strB)\n",
    "\n",
    "print(ratio2)"
   ]
  },
  {
   "cell_type": "markdown",
   "id": "8e6efac5",
   "metadata": {},
   "source": [
    "<h1 style=\"color:purple\">Partial Ratio</h1>"
   ]
  },
  {
   "cell_type": "code",
   "execution_count": 8,
   "id": "dec214af",
   "metadata": {},
   "outputs": [],
   "source": [
    "strA = 'Mumbai, Maharashtra'\n",
    "\n",
    "strB = 'Mumbai'"
   ]
  },
  {
   "cell_type": "code",
   "execution_count": 9,
   "id": "e7203062",
   "metadata": {},
   "outputs": [],
   "source": [
    "partratio = fuzz.partial_ratio(strA, strB)\n",
    "\n",
    "# partial_ratio = matches with substring (one word is matches then it gives 100)"
   ]
  },
  {
   "cell_type": "code",
   "execution_count": 10,
   "id": "4c4520ae",
   "metadata": {},
   "outputs": [],
   "source": [
    "ratio3 = fuzz.ratio(strA, strB)"
   ]
  },
  {
   "cell_type": "code",
   "execution_count": 11,
   "id": "02ec0dca",
   "metadata": {},
   "outputs": [
    {
     "name": "stdout",
     "output_type": "stream",
     "text": [
      "100\n"
     ]
    }
   ],
   "source": [
    "print(partratio)"
   ]
  },
  {
   "cell_type": "code",
   "execution_count": 12,
   "id": "2ed659ea",
   "metadata": {},
   "outputs": [
    {
     "name": "stdout",
     "output_type": "stream",
     "text": [
      "48\n"
     ]
    }
   ],
   "source": [
    "print(ratio3)"
   ]
  },
  {
   "cell_type": "markdown",
   "id": "c333981e",
   "metadata": {},
   "source": [
    "# Example 2"
   ]
  },
  {
   "cell_type": "code",
   "execution_count": 13,
   "id": "5b2cdc8d",
   "metadata": {},
   "outputs": [],
   "source": [
    "name = 'Neil Nitin Mukesh'\n",
    "\n",
    "name2 = 'Nitin'"
   ]
  },
  {
   "cell_type": "code",
   "execution_count": 14,
   "id": "8dbb3b2d",
   "metadata": {},
   "outputs": [],
   "source": [
    "partratio_2 = fuzz.partial_ratio(name, name2)"
   ]
  },
  {
   "cell_type": "code",
   "execution_count": 15,
   "id": "c3593e1d",
   "metadata": {},
   "outputs": [],
   "source": [
    "ratio4 = fuzz.ratio(name, name2)"
   ]
  },
  {
   "cell_type": "code",
   "execution_count": 16,
   "id": "9e6e0500",
   "metadata": {},
   "outputs": [
    {
     "name": "stdout",
     "output_type": "stream",
     "text": [
      "100\n"
     ]
    }
   ],
   "source": [
    "print(partratio_2)"
   ]
  },
  {
   "cell_type": "code",
   "execution_count": 17,
   "id": "17cdb93f",
   "metadata": {},
   "outputs": [
    {
     "name": "stdout",
     "output_type": "stream",
     "text": [
      "45\n"
     ]
    }
   ],
   "source": [
    "print(ratio4)"
   ]
  },
  {
   "cell_type": "markdown",
   "id": "1a535058",
   "metadata": {},
   "source": [
    "<h1 style=\"color:purple\">Token Sort Ratio</h1>"
   ]
  },
  {
   "cell_type": "code",
   "execution_count": 18,
   "id": "c5d439bb",
   "metadata": {},
   "outputs": [],
   "source": [
    "name = 'Lalu Prasad Yadav'\n",
    "\n",
    "name2 = 'Prasad Lalu Yadav'"
   ]
  },
  {
   "cell_type": "code",
   "execution_count": 19,
   "id": "f3c78b64",
   "metadata": {},
   "outputs": [],
   "source": [
    "tsratio = fuzz.token_sort_ratio(name, name2)\n",
    "\n",
    "# words order dosent matter (aaaaadd)"
   ]
  },
  {
   "cell_type": "code",
   "execution_count": 20,
   "id": "6311af60",
   "metadata": {},
   "outputs": [],
   "source": [
    "ratio5 = fuzz.ratio(name, name2)"
   ]
  },
  {
   "cell_type": "code",
   "execution_count": 21,
   "id": "127682a1",
   "metadata": {},
   "outputs": [
    {
     "name": "stdout",
     "output_type": "stream",
     "text": [
      "100\n"
     ]
    }
   ],
   "source": [
    "print(tsratio)"
   ]
  },
  {
   "cell_type": "code",
   "execution_count": 22,
   "id": "bf6b44b7",
   "metadata": {},
   "outputs": [
    {
     "name": "stdout",
     "output_type": "stream",
     "text": [
      "71\n"
     ]
    }
   ],
   "source": [
    "print(ratio5)"
   ]
  },
  {
   "cell_type": "markdown",
   "id": "01c93256",
   "metadata": {},
   "source": [
    "# Question 1\n",
    "\n",
    "**Sort using ratio, partial_ratio, token_sort_ratio**"
   ]
  },
  {
   "cell_type": "markdown",
   "id": "8811965c",
   "metadata": {},
   "source": [
    "**Ratio**"
   ]
  },
  {
   "cell_type": "code",
   "execution_count": 23,
   "id": "102cc6e2",
   "metadata": {},
   "outputs": [],
   "source": [
    "str1 = 'truth or dare'\n",
    "str2 = 'truth dare'"
   ]
  },
  {
   "cell_type": "code",
   "execution_count": 24,
   "id": "e0adc5ab",
   "metadata": {},
   "outputs": [
    {
     "name": "stdout",
     "output_type": "stream",
     "text": [
      "87\n"
     ]
    }
   ],
   "source": [
    "ratio = fuzz.ratio(str1, str2)\n",
    "\n",
    "print(ratio)"
   ]
  },
  {
   "cell_type": "code",
   "execution_count": 25,
   "id": "dc0f74a9",
   "metadata": {},
   "outputs": [],
   "source": [
    "str1 = 'TruthOrDare'\n",
    "str2 = 'Truthdare'"
   ]
  },
  {
   "cell_type": "code",
   "execution_count": 26,
   "id": "4a3be3ef",
   "metadata": {},
   "outputs": [
    {
     "name": "stdout",
     "output_type": "stream",
     "text": [
      "80\n"
     ]
    }
   ],
   "source": [
    "ratio = fuzz.ratio(str1, str2)\n",
    "\n",
    "print(ratio)"
   ]
  },
  {
   "cell_type": "markdown",
   "id": "b4ebcce3",
   "metadata": {},
   "source": [
    "**Partial Ratio**"
   ]
  },
  {
   "cell_type": "code",
   "execution_count": 41,
   "id": "06707e95",
   "metadata": {},
   "outputs": [],
   "source": [
    "str1 = 'truth or dare'\n",
    "str2 = 'truth or dare!'"
   ]
  },
  {
   "cell_type": "code",
   "execution_count": 42,
   "id": "170bc113",
   "metadata": {},
   "outputs": [
    {
     "name": "stdout",
     "output_type": "stream",
     "text": [
      "100\n"
     ]
    }
   ],
   "source": [
    "partratio = fuzz.partial_ratio(str1, str2)\n",
    "\n",
    "print(partratio)"
   ]
  },
  {
   "cell_type": "code",
   "execution_count": 29,
   "id": "04bef3ba",
   "metadata": {},
   "outputs": [],
   "source": [
    "str1 = 'truth or dare'\n",
    "str2 = 'truth dare'"
   ]
  },
  {
   "cell_type": "code",
   "execution_count": 30,
   "id": "d0e730b1",
   "metadata": {},
   "outputs": [
    {
     "name": "stdout",
     "output_type": "stream",
     "text": [
      "70\n"
     ]
    }
   ],
   "source": [
    "partratio = fuzz.partial_ratio(str1, str2)\n",
    "\n",
    "print(partratio)\n",
    "\n",
    "# because \"or\" is missing"
   ]
  },
  {
   "cell_type": "code",
   "execution_count": 31,
   "id": "4aac18c5",
   "metadata": {},
   "outputs": [],
   "source": [
    "str1 = 'Raj Kapoor'\n",
    "str2 = 'Ranbir Kapoor'"
   ]
  },
  {
   "cell_type": "code",
   "execution_count": 32,
   "id": "fbf9d294",
   "metadata": {},
   "outputs": [
    {
     "name": "stdout",
     "output_type": "stream",
     "text": [
      "70\n"
     ]
    }
   ],
   "source": [
    "partratio = fuzz.partial_ratio(str1, str2)\n",
    "\n",
    "print(partratio)"
   ]
  },
  {
   "cell_type": "markdown",
   "id": "eea924f1",
   "metadata": {},
   "source": [
    "**Token Sort Ratio**"
   ]
  },
  {
   "cell_type": "code",
   "execution_count": 33,
   "id": "bc52b202",
   "metadata": {},
   "outputs": [],
   "source": [
    "str1 = 'truth or dare'\n",
    "str2 = 'dare or truth'"
   ]
  },
  {
   "cell_type": "code",
   "execution_count": 34,
   "id": "b7fc14cb",
   "metadata": {},
   "outputs": [
    {
     "name": "stdout",
     "output_type": "stream",
     "text": [
      "100\n"
     ]
    }
   ],
   "source": [
    "tsratio = fuzz.token_sort_ratio(str1 , str2)\n",
    "\n",
    "print(tsratio)"
   ]
  },
  {
   "cell_type": "code",
   "execution_count": 35,
   "id": "4e7d3400",
   "metadata": {},
   "outputs": [],
   "source": [
    "str1 = 'truth or dare'\n",
    "str2 = 'or dare truth'"
   ]
  },
  {
   "cell_type": "code",
   "execution_count": 36,
   "id": "84a83bfa",
   "metadata": {},
   "outputs": [
    {
     "name": "stdout",
     "output_type": "stream",
     "text": [
      "100\n"
     ]
    }
   ],
   "source": [
    "tsratio = fuzz.token_sort_ratio(str1 , str2)\n",
    "\n",
    "print(tsratio)"
   ]
  },
  {
   "cell_type": "markdown",
   "id": "9ed640b2",
   "metadata": {},
   "source": [
    "<h1 style=\"color:purple\">Token set Ratio</h1>\n",
    "\n",
    "**Token set ratio Avoid/Ignores Duplicates**"
   ]
  },
  {
   "cell_type": "code",
   "execution_count": 44,
   "id": "8f38ad59",
   "metadata": {},
   "outputs": [
    {
     "name": "stdout",
     "output_type": "stream",
     "text": [
      "Token Sort Ratio :  90\n",
      "Token Set Ratio :  100\n"
     ]
    }
   ],
   "source": [
    "str1 = 'truth or dare'\n",
    "\n",
    "str2 = 'truth or or dare'\n",
    "\n",
    "tsratio = fuzz.token_sort_ratio(str1 , str2)\n",
    "\n",
    "t_set_ratio = fuzz.token_set_ratio(str1, str2)\n",
    "\n",
    "\n",
    "print(\"Token Sort Ratio : \",tsratio)\n",
    "print(\"Token Set Ratio : \",t_set_ratio)"
   ]
  },
  {
   "cell_type": "markdown",
   "id": "bcfee59a",
   "metadata": {},
   "source": [
    "# Example 2"
   ]
  },
  {
   "cell_type": "code",
   "execution_count": 45,
   "id": "3be8dcd4",
   "metadata": {},
   "outputs": [
    {
     "name": "stdout",
     "output_type": "stream",
     "text": [
      "Token Sort Ratio :  77\n",
      "Token Set Ratio :  100\n"
     ]
    }
   ],
   "source": [
    "str1 = 'Neil Nitin'\n",
    "\n",
    "str2 = 'Neil Nitin Nitin'\n",
    "\n",
    "tsratio = fuzz.token_sort_ratio(str1 , str2)\n",
    "\n",
    "t_set_ratio = fuzz.token_set_ratio(str1, str2)\n",
    "\n",
    "\n",
    "print(\"Token Sort Ratio : \",tsratio)\n",
    "print(\"Token Set Ratio : \",t_set_ratio)\n",
    "\n",
    "\n",
    "# token sort = eiiiiilNNNnn\n",
    "# token set  = e i l N"
   ]
  },
  {
   "cell_type": "markdown",
   "id": "a7898866",
   "metadata": {},
   "source": [
    "# Example 3"
   ]
  },
  {
   "cell_type": "code",
   "execution_count": 47,
   "id": "396b5109",
   "metadata": {},
   "outputs": [
    {
     "name": "stdout",
     "output_type": "stream",
     "text": [
      "Token Sort Ratio :  77\n",
      "Token Set Ratio :  77\n"
     ]
    }
   ],
   "source": [
    "str1 = 'I Love Myself'\n",
    "\n",
    "str2 = 'I am loving myself'\n",
    "\n",
    "tsratio = fuzz.token_sort_ratio(str1 , str2)\n",
    "\n",
    "t_set_ratio = fuzz.token_set_ratio(str1, str2)\n",
    "\n",
    "\n",
    "print(\"Token Sort Ratio : \",tsratio)\n",
    "print(\"Token Set Ratio : \",t_set_ratio)"
   ]
  },
  {
   "cell_type": "markdown",
   "id": "648aaceb",
   "metadata": {},
   "source": [
    "<h1 style=\"color:purple\">WRatio</h1>\n",
    "\n",
    "**Ignores UpperCase, LowerCase , AlphaNumeric Character(special Character)**"
   ]
  },
  {
   "cell_type": "code",
   "execution_count": 50,
   "id": "d6dc4f10",
   "metadata": {},
   "outputs": [
    {
     "name": "stdout",
     "output_type": "stream",
     "text": [
      "Token Sort Ratio :  77\n",
      "Token Set Ratio :  77\n",
      "\n",
      " WRatio  :  77\n"
     ]
    }
   ],
   "source": [
    "str1 = 'I Love Myself'\n",
    "\n",
    "str2 = 'I am loving myself'\n",
    "\n",
    "tsratio = fuzz.token_sort_ratio(str1 , str2)\n",
    "\n",
    "t_set_ratio = fuzz.token_set_ratio(str1, str2)\n",
    "\n",
    "wratio = fuzz.WRatio(str1, str2)\n",
    "\n",
    "print(\"Token Sort Ratio : \",tsratio)\n",
    "print(\"Token Set Ratio : \",t_set_ratio)\n",
    "print(\"\\n WRatio  : \", wratio)"
   ]
  },
  {
   "cell_type": "markdown",
   "id": "3008bcaf",
   "metadata": {},
   "source": [
    "# Example 2"
   ]
  },
  {
   "cell_type": "code",
   "execution_count": 54,
   "id": "5428220d",
   "metadata": {},
   "outputs": [
    {
     "name": "stdout",
     "output_type": "stream",
     "text": [
      "WRatio  :  77\n"
     ]
    }
   ],
   "source": [
    "str1 = 'I Love Myself'\n",
    "\n",
    "str2 = 'I am loving myself'\n",
    "\n",
    "wratio = fuzz.WRatio(str1, str2)\n",
    "\n",
    "print(\"WRatio  : \", wratio)"
   ]
  },
  {
   "cell_type": "code",
   "execution_count": 51,
   "id": "80cb8404",
   "metadata": {},
   "outputs": [
    {
     "name": "stdout",
     "output_type": "stream",
     "text": [
      "WRatio  :  100\n"
     ]
    }
   ],
   "source": [
    "str1 = 'truth or dare'\n",
    "\n",
    "str2 = 'Truth Or Dare'\n",
    "\n",
    "wratio = fuzz.WRatio(str1, str2)\n",
    "\n",
    "print(\"WRatio  : \", wratio)"
   ]
  },
  {
   "cell_type": "code",
   "execution_count": 52,
   "id": "ad682b4c",
   "metadata": {},
   "outputs": [
    {
     "name": "stdout",
     "output_type": "stream",
     "text": [
      "WRatio  :  100\n"
     ]
    }
   ],
   "source": [
    "str1 = 'truth or dare!!!'\n",
    "\n",
    "str2 = 'Truth Or dare'\n",
    "\n",
    "wratio = fuzz.WRatio(str1, str2)\n",
    "\n",
    "print(\"WRatio  : \", wratio)"
   ]
  },
  {
   "cell_type": "code",
   "execution_count": 53,
   "id": "162d61e5",
   "metadata": {},
   "outputs": [
    {
     "name": "stdout",
     "output_type": "stream",
     "text": [
      "WRatio  :  96\n"
     ]
    }
   ],
   "source": [
    "str1 = 'truth or dare!!!'\n",
    "\n",
    "str2 = 'Truth Or dares'\n",
    "\n",
    "wratio = fuzz.WRatio(str1, str2)\n",
    "\n",
    "print(\"WRatio  : \", wratio)"
   ]
  },
  {
   "cell_type": "markdown",
   "id": "3cbccd3e",
   "metadata": {},
   "source": [
    "<h1 style=\"color:purple\">Process API</h1>"
   ]
  },
  {
   "cell_type": "code",
   "execution_count": 55,
   "id": "0762477e",
   "metadata": {},
   "outputs": [],
   "source": [
    "from fuzzywuzzy import process"
   ]
  },
  {
   "cell_type": "code",
   "execution_count": 57,
   "id": "08a5a9b2",
   "metadata": {},
   "outputs": [],
   "source": [
    "query = \"artificial intelligence\""
   ]
  },
  {
   "cell_type": "code",
   "execution_count": 59,
   "id": "a06977c7",
   "metadata": {},
   "outputs": [],
   "source": [
    "choises = ['artificial intelligence', 'Artificial Intelligence', 'arts intelligence', 'a intelligence']"
   ]
  },
  {
   "cell_type": "code",
   "execution_count": 60,
   "id": "806424a2",
   "metadata": {},
   "outputs": [
    {
     "name": "stdout",
     "output_type": "stream",
     "text": [
      "List of ratios\n",
      "[('artificial intelligence', 100), ('Artificial Intelligence', 100), ('a intelligence', 86), ('arts intelligence', 80)] \n",
      "\n"
     ]
    }
   ],
   "source": [
    "print(\"List of ratios\")\n",
    "\n",
    "print(process.extract(query,choises),'\\n')"
   ]
  },
  {
   "cell_type": "code",
   "execution_count": 61,
   "id": "8785eee8",
   "metadata": {},
   "outputs": [
    {
     "name": "stdout",
     "output_type": "stream",
     "text": [
      "Best Among the above list :  ('artificial intelligence', 100)\n"
     ]
    }
   ],
   "source": [
    "print('Best Among the above list : ',process.extractOne(query,choises))"
   ]
  },
  {
   "cell_type": "code",
   "execution_count": null,
   "id": "db6adc16",
   "metadata": {},
   "outputs": [],
   "source": []
  }
 ],
 "metadata": {
  "kernelspec": {
   "display_name": "Python 3 (ipykernel)",
   "language": "python",
   "name": "python3"
  },
  "language_info": {
   "codemirror_mode": {
    "name": "ipython",
    "version": 3
   },
   "file_extension": ".py",
   "mimetype": "text/x-python",
   "name": "python",
   "nbconvert_exporter": "python",
   "pygments_lexer": "ipython3",
   "version": "3.9.12"
  }
 },
 "nbformat": 4,
 "nbformat_minor": 5
}
